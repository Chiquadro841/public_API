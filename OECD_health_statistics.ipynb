{
 "cells": [
  {
   "cell_type": "code",
   "execution_count": 17,
   "metadata": {},
   "outputs": [
    {
     "name": "stdout",
     "output_type": "stream",
     "text": [
      "['DNK' 'EST' 'FIN' 'GBR' 'NZL' 'PRT' 'CHL' 'NOR' 'POL' 'ESP' 'HUN' 'ITA'\n",
      " 'AUS' 'ISR' 'SWE' 'CRI']\n"
     ]
    }
   ],
   "source": [
    "import pandasdmx as sdmx\n",
    "import pandas as pd\n",
    "\n",
    "# URL dell'API SDMX OCSE\n",
    "url = \"https://sdmx.oecd.org/public/rest/data/OECD.ELS.HD,DSD_HEALTH_PROC@DF_WAITING,1.1/.WAIT.PT_PAT_WAIT_M_GT3.CM131_138...........WTSP...?startPeriod=2010&dimensionAtObservation=AllDimensions\"\n",
    "\n",
    "# Richiesta dei dati\n",
    "response = sdmx.Request().get(url=url)\n",
    "\n",
    "# Conversione in pandas DataFrame\n",
    "data_msg = response.to_pandas()\n",
    "\n",
    "# Convertire il dataset in un DataFrame\n",
    "df = pd.DataFrame(data_msg)\n",
    "\n",
    "# Se necessario, resettare l'indice per rendere più semplice la visualizzazione\n",
    "df = df.reset_index()\n",
    "\n",
    "# Visualizzazione dei primi 5 record\n",
    "new_df = df.loc[ df['REF_AREA'] == 'SPA'][ [ 'TIME_PERIOD', 'REF_AREA', 'SEX','value','WAITING_TIME','MEDICAL_PROCEDURE','value']]\n",
    "\n",
    "print(df['REF_AREA'].unique())\n",
    "\n"
   ]
  }
 ],
 "metadata": {
  "kernelspec": {
   "display_name": "Python 3",
   "language": "python",
   "name": "python3"
  },
  "language_info": {
   "codemirror_mode": {
    "name": "ipython",
    "version": 3
   },
   "file_extension": ".py",
   "mimetype": "text/x-python",
   "name": "python",
   "nbconvert_exporter": "python",
   "pygments_lexer": "ipython3",
   "version": "3.12.0"
  }
 },
 "nbformat": 4,
 "nbformat_minor": 2
}
